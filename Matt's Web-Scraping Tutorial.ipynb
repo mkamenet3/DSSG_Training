{
 "cells": [
  {
   "cell_type": "markdown",
   "metadata": {},
   "source": [
    "# Intro\n",
    "\n",
    "HTML: text wrapped in tags\n",
    "\n"
   ]
  },
  {
   "cell_type": "code",
   "execution_count": 3,
   "metadata": {
    "collapsed": false
   },
   "outputs": [
    {
     "ename": "SyntaxError",
     "evalue": "invalid syntax (<ipython-input-3-a039831b547a>, line 2)",
     "output_type": "error",
     "traceback": [
      "\u001b[0;36m  File \u001b[0;32m\"<ipython-input-3-a039831b547a>\"\u001b[0;36m, line \u001b[0;32m2\u001b[0m\n\u001b[0;31m    print requests.get('http://www.nytimes.com/').text\u001b[0m\n\u001b[0m                 ^\u001b[0m\n\u001b[0;31mSyntaxError\u001b[0m\u001b[0;31m:\u001b[0m invalid syntax\n"
     ]
    }
   ],
   "source": [
    "import requests\n",
    "print requests.get('http://www.nytimes.com/').text"
   ]
  },
  {
   "cell_type": "code",
   "execution_count": 2,
   "metadata": {
    "collapsed": false
   },
   "outputs": [
    {
     "ename": "SyntaxError",
     "evalue": "invalid syntax (<ipython-input-2-13b50f42f0fb>, line 11)",
     "output_type": "error",
     "traceback": [
      "\u001b[0;36m  File \u001b[0;32m\"<ipython-input-2-13b50f42f0fb>\"\u001b[0;36m, line \u001b[0;32m11\u001b[0m\n\u001b[0;31m    r = requests.get('http://www.nytimes.com'/)\u001b[0m\n\u001b[0m                                              ^\u001b[0m\n\u001b[0;31mSyntaxError\u001b[0m\u001b[0;31m:\u001b[0m invalid syntax\n"
     ]
    }
   ],
   "source": [
    "\n",
    "#######################################################\n",
    "#Matt's Web-Scraping Tutorial\n",
    "#######################################################\n",
    "\n",
    "#- nice library for getting data = requests\n",
    "\n",
    "import requests\n",
    "from bs4 import BeautifulSoup\n",
    "\n",
    "r = requests.get('http://www.nytimes.com'/)\n",
    "r.text\n",
    "soup = BeautifulSoup(r.text)\n",
    "soup.find_all('h2')\n",
    "headers = soup.find_all(attrs = ('class': 'story-heading'))\n",
    "\n",
    "\n",
    "for tag in tags: display(HTML(str(tag)))\n",
    "\n",
    "articles = soup.find_all('article') #encapsulates one semantic concept in a news article on a website\n",
    "[articles.find('h2') for article in articles]\n",
    "\n",
    "import re\n",
    "[articles.find_all(re.compile(``h/d') for article in articles]\n",
    "\n",
    "#HTTP Topics\n",
    "r = requests.get('http://google.com/')\n",
    "r.headers\n",
    "\n",
    "#cookies are awesome and terrifying\n",
    "\n",
    "print soup.find('form').prettify()\n",
    "\n",
    "r = requests.get('http://google.com/search',\n",
    "\tparam = ('q': 'how long does a walrus lives?',\n",
    "\t'btnl': 'I'm feeling lucking))\n",
    "print soup.find('form').prettify()\n",
    "\n",
    "r = requests.get('http://heavens-above.com/....)\n",
    "rows= soup.find_all('tr', attrs=('class': 'clickablerow'))\n",
    "row = rows[0]\n",
    "row.find_all('td')\n",
    "\n",
    "for row in rows\n",
    "\tcols = row.find_all('td')\n",
    "\ttimes.append(cols[0].text  + ' ' + cols[2].text))\n",
    "times\n",
    "\n",
    "\n",
    "\n",
    "def scrape_times(text):\n",
    "\tsoup = BeautifulSoup(text)\n",
    "\trows= soup.find_all('tr', attrs=('class': 'clickablerow'))\n",
    "\trow = rows[0]\n",
    "\trow.find_all('td')\n",
    "\n",
    "\tfor row in rows\n",
    "\t\tcols = row.find_all('td')\n",
    "\t\ttimes.append(cols[0].text  + ' ' + cols[2].text))\n",
    "\ttimes\n",
    "\n",
    "soup = BeautifulSoup(r.text)\n",
    "inputs = soup.find_all('form')\n",
    "inputs\n",
    "\n",
    "\n",
    "from tqdm import tqdm\n",
    "\n",
    "times = []\n",
    "for i in tqdm(xrange(10)):\n",
    "\ttimes.extend(scrape_times(r.text))\n",
    "\tr - get_next_page(r)\n",
    "times\n",
    "\n",
    "\n",
    "#scrapey is another possible new tool"
   ]
  },
  {
   "cell_type": "code",
   "execution_count": null,
   "metadata": {
    "collapsed": true
   },
   "outputs": [],
   "source": []
  }
 ],
 "metadata": {
  "anaconda-cloud": {},
  "kernelspec": {
   "display_name": "Python [default]",
   "language": "python",
   "name": "python3"
  }
 },
 "nbformat": 4,
 "nbformat_minor": 0
}
